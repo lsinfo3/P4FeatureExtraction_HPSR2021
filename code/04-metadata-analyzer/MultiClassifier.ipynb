{
 "cells": [
  {
   "cell_type": "code",
   "execution_count": null,
   "metadata": {},
   "outputs": [],
   "source": [
    "import pandas as pd\n",
    "\n",
    "# import dataset\n",
    "dataset = pd.read_csv('sklearn-multi.csv')\n",
    "dataset.shape"
   ]
  },
  {
   "cell_type": "code",
   "execution_count": 32,
   "metadata": {},
   "outputs": [],
   "source": [
    "import numpy as np\n",
    "\n",
    "# split into features and labels\n",
    "features = dataset.iloc[:, 0:17]\n",
    "labels = dataset.iloc[:, 17]\n",
    "\n",
    "# generate dummies from categorical values (if present)\n",
    "features = pd.get_dummies(features)\n",
    "features = features.replace(np.inf, np.nan)\n",
    "features = features.fillna(0)\n",
    "\n",
    "from sklearn.preprocessing import LabelEncoder\n",
    "\n",
    "# encode labels\n",
    "le = LabelEncoder()\n",
    "le_fitted_labels = le.fit(labels)\n",
    "labels = le.fit_transform(labels)"
   ]
  },
  {
   "cell_type": "code",
   "execution_count": 9,
   "metadata": {},
   "outputs": [],
   "source": [
    "from sklearn.model_selection import train_test_split\n",
    "\n",
    "# split in train subset (used for RandomizedSearch) and test dataset (used for later validation at the end)\n",
    "features_train, features_test, labels_train, labels_test = train_test_split(features, labels, test_size = 0.25)"
   ]
  },
  {
   "cell_type": "code",
   "execution_count": null,
   "metadata": {},
   "outputs": [],
   "source": [
    "# from sklearn.ensemble import RandomForestClassifier\n",
    "\n",
    "# # simple baseline RandomForestClassifier (only for first testing)\n",
    "# clf = RandomForestClassifier(n_estimators=100, n_jobs=-1, verbose=1)\n",
    "# clf.fit(features_train, labels_train)\n",
    "# labels_pred = clf.predict(features_test)"
   ]
  },
  {
   "cell_type": "code",
   "execution_count": 16,
   "metadata": {},
   "outputs": [],
   "source": [
    "from sklearn.ensemble import RandomForestClassifier\n",
    "from sklearn.model_selection import RandomizedSearchCV\n",
    "\n",
    "# Create random grid as parameters for RandomizedSearch\n",
    "\n",
    "n_estimators = [int(x) for x in np.linspace(start = 10, stop = 100, num = 10)]\n",
    "max_features = ['auto', 'sqrt']\n",
    "max_depth = [int(x) for x in np.linspace(10, 100, num = 10)]\n",
    "max_depth.append(None)\n",
    "min_samples_split = [2, 5, 10]\n",
    "min_samples_leaf = [1, 2, 4]\n",
    "bootstrap = [True, False]\n",
    "\n",
    "random_grid = {'n_estimators': n_estimators,\n",
    "               'max_features': max_features,\n",
    "               'max_depth': max_depth,\n",
    "               'min_samples_split': min_samples_split,\n",
    "               'min_samples_leaf': min_samples_leaf,\n",
    "               'bootstrap': bootstrap}"
   ]
  },
  {
   "cell_type": "code",
   "execution_count": null,
   "metadata": {},
   "outputs": [],
   "source": [
    "rf = RandomForestClassifier(verbose = 100)\n",
    "\n",
    "# Find best model using RandomizedSearch\n",
    "\n",
    "rf_random = RandomizedSearchCV(estimator = rf, param_distributions=random_grid, \n",
    "                               n_iter = 100, cv = 5, verbose = 100, n_jobs = -2)\n",
    "\n",
    "rf_random.fit(features_train, labels_train)"
   ]
  },
  {
   "cell_type": "code",
   "execution_count": null,
   "metadata": {},
   "outputs": [],
   "source": [
    "from joblib import dump, load\n",
    "\n",
    "# print and save best result\n",
    "print(rf_random.best_estimator_)\n",
    "\n",
    "# RandomizedSearchCV delivered the following model as best result\n",
    "# RandomForestClassifier(bootstrap=False, max_depth=70, max_features='sqrt', min_samples_leaf=2, n_estimators=50, verbose=100)\n",
    "# dump(rf_random.best_estimator_, 'best_estimator.joblib')"
   ]
  },
  {
   "cell_type": "code",
   "execution_count": null,
   "metadata": {},
   "outputs": [],
   "source": [
    "# predict validation dataset\n",
    "\n",
    "labels_pred = rf_random.best_estimator_.predict(features_test)"
   ]
  },
  {
   "cell_type": "code",
   "execution_count": null,
   "metadata": {},
   "outputs": [],
   "source": [
    "from sklearn import metrics\n",
    "from sklearn.metrics import confusion_matrix\n",
    "\n",
    "# print scores\n",
    "\n",
    "labels_test_tf = le.inverse_transform(labels_test)\n",
    "labels_pred_tf = le.inverse_transform(labels_pred) \n",
    "\n",
    "print(metrics.classification_report(labels_test_tf, labels_pred_tf, digits=6))\n",
    "print(metrics.balanced_accuracy_score(labels_test, labels_pred, adjusted=True))"
   ]
  },
  {
   "cell_type": "code",
   "execution_count": null,
   "metadata": {},
   "outputs": [],
   "source": [
    "from pycm import ConfusionMatrix\n",
    "cm = ConfusionMatrix(actual_vector=labels_test_tf,predict_vector=labels_pred_tf)\n",
    "print(cm)"
   ]
  },
  {
   "cell_type": "code",
   "execution_count": null,
   "metadata": {},
   "outputs": [],
   "source": [
    "# print feature impotances\n",
    "\n",
    "feature_importances = pd.Series(rf_random.best_estimator_.feature_importances_, index=features.columns)\n",
    "print(feature_importances)"
   ]
  }
 ],
 "metadata": {
  "kernelspec": {
   "display_name": "Python 3",
   "language": "python",
   "name": "python3"
  },
  "language_info": {
   "codemirror_mode": {
    "name": "ipython",
    "version": 3
   },
   "file_extension": ".py",
   "mimetype": "text/x-python",
   "name": "python",
   "nbconvert_exporter": "python",
   "pygments_lexer": "ipython3",
   "version": "3.9.0"
  }
 },
 "nbformat": 4,
 "nbformat_minor": 4
}
